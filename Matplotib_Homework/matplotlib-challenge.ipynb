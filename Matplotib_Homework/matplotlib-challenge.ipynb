{
 "cells": [
  {
   "cell_type": "code",
   "execution_count": 36,
   "metadata": {},
   "outputs": [],
   "source": [
    "import matplotlib.pyplot as plt\n",
    "import numpy as np \n",
    "import pandas as pd\n",
    "from scipy import stats\n"
   ]
  },
  {
   "cell_type": "code",
   "execution_count": 37,
   "metadata": {},
   "outputs": [],
   "source": [
    "metastatic_data_csv = \"02-Homework_05-Matplotlib_Instructions_Pymaceuticals_data_clinicaltrial_data.csv\"\n",
    "drug_data_csv = \"02-Homework_05-Matplotlib_Instructions_Pymaceuticals_data_mouse_drug_data.csv\"\n",
    "\n",
    "metastatic_data = pd.read_csv(metastatic_data_csv)\n",
    "drug_data = pd.read_csv(drug_data_csv)"
   ]
  },
  {
   "cell_type": "code",
   "execution_count": 121,
   "metadata": {},
   "outputs": [
    {
     "data": {
      "text/html": [
       "<div>\n",
       "<style scoped>\n",
       "    .dataframe tbody tr th:only-of-type {\n",
       "        vertical-align: middle;\n",
       "    }\n",
       "\n",
       "    .dataframe tbody tr th {\n",
       "        vertical-align: top;\n",
       "    }\n",
       "\n",
       "    .dataframe thead th {\n",
       "        text-align: right;\n",
       "    }\n",
       "</style>\n",
       "<table border=\"1\" class=\"dataframe\">\n",
       "  <thead>\n",
       "    <tr style=\"text-align: right;\">\n",
       "      <th></th>\n",
       "      <th>Mouse ID</th>\n",
       "      <th>Timepoint</th>\n",
       "      <th>Tumor Volume (mm3)</th>\n",
       "      <th>Metastatic Sites</th>\n",
       "      <th>Drug</th>\n",
       "    </tr>\n",
       "  </thead>\n",
       "  <tbody>\n",
       "    <tr>\n",
       "      <th>0</th>\n",
       "      <td>b128</td>\n",
       "      <td>0</td>\n",
       "      <td>45.000000</td>\n",
       "      <td>0</td>\n",
       "      <td>Capomulin</td>\n",
       "    </tr>\n",
       "    <tr>\n",
       "      <th>1</th>\n",
       "      <td>b128</td>\n",
       "      <td>5</td>\n",
       "      <td>45.651331</td>\n",
       "      <td>0</td>\n",
       "      <td>Capomulin</td>\n",
       "    </tr>\n",
       "    <tr>\n",
       "      <th>2</th>\n",
       "      <td>b128</td>\n",
       "      <td>10</td>\n",
       "      <td>43.270852</td>\n",
       "      <td>0</td>\n",
       "      <td>Capomulin</td>\n",
       "    </tr>\n",
       "    <tr>\n",
       "      <th>3</th>\n",
       "      <td>b128</td>\n",
       "      <td>15</td>\n",
       "      <td>43.784893</td>\n",
       "      <td>0</td>\n",
       "      <td>Capomulin</td>\n",
       "    </tr>\n",
       "    <tr>\n",
       "      <th>4</th>\n",
       "      <td>b128</td>\n",
       "      <td>20</td>\n",
       "      <td>42.731552</td>\n",
       "      <td>0</td>\n",
       "      <td>Capomulin</td>\n",
       "    </tr>\n",
       "  </tbody>\n",
       "</table>\n",
       "</div>"
      ],
      "text/plain": [
       "  Mouse ID  Timepoint  Tumor Volume (mm3)  Metastatic Sites       Drug\n",
       "0     b128          0           45.000000                 0  Capomulin\n",
       "1     b128          5           45.651331                 0  Capomulin\n",
       "2     b128         10           43.270852                 0  Capomulin\n",
       "3     b128         15           43.784893                 0  Capomulin\n",
       "4     b128         20           42.731552                 0  Capomulin"
      ]
     },
     "execution_count": 121,
     "metadata": {},
     "output_type": "execute_result"
    }
   ],
   "source": [
    "combined_data = pd.merge(metastatic_data, drug_data, how=\"outer\", on=\"Mouse ID\")\n",
    "\n",
    "combined_data.head()"
   ]
  },
  {
   "cell_type": "code",
   "execution_count": 122,
   "metadata": {},
   "outputs": [
    {
     "data": {
      "text/html": [
       "<div>\n",
       "<style scoped>\n",
       "    .dataframe tbody tr th:only-of-type {\n",
       "        vertical-align: middle;\n",
       "    }\n",
       "\n",
       "    .dataframe tbody tr th {\n",
       "        vertical-align: top;\n",
       "    }\n",
       "\n",
       "    .dataframe thead th {\n",
       "        text-align: right;\n",
       "    }\n",
       "</style>\n",
       "<table border=\"1\" class=\"dataframe\">\n",
       "  <thead>\n",
       "    <tr style=\"text-align: right;\">\n",
       "      <th></th>\n",
       "      <th></th>\n",
       "      <th>Tumor Volume (mm3)</th>\n",
       "      <th>Metastatic Sites</th>\n",
       "    </tr>\n",
       "    <tr>\n",
       "      <th>Drug</th>\n",
       "      <th>Timepoint</th>\n",
       "      <th></th>\n",
       "      <th></th>\n",
       "    </tr>\n",
       "  </thead>\n",
       "  <tbody>\n",
       "    <tr>\n",
       "      <th rowspan=\"10\" valign=\"top\">Capomulin</th>\n",
       "      <th>0</th>\n",
       "      <td>45.000000</td>\n",
       "      <td>0.000000</td>\n",
       "    </tr>\n",
       "    <tr>\n",
       "      <th>5</th>\n",
       "      <td>44.266086</td>\n",
       "      <td>0.160000</td>\n",
       "    </tr>\n",
       "    <tr>\n",
       "      <th>10</th>\n",
       "      <td>43.084291</td>\n",
       "      <td>0.320000</td>\n",
       "    </tr>\n",
       "    <tr>\n",
       "      <th>15</th>\n",
       "      <td>42.064317</td>\n",
       "      <td>0.375000</td>\n",
       "    </tr>\n",
       "    <tr>\n",
       "      <th>20</th>\n",
       "      <td>40.716325</td>\n",
       "      <td>0.652174</td>\n",
       "    </tr>\n",
       "    <tr>\n",
       "      <th>25</th>\n",
       "      <td>39.939528</td>\n",
       "      <td>0.818182</td>\n",
       "    </tr>\n",
       "    <tr>\n",
       "      <th>30</th>\n",
       "      <td>38.769339</td>\n",
       "      <td>1.090909</td>\n",
       "    </tr>\n",
       "    <tr>\n",
       "      <th>35</th>\n",
       "      <td>37.816839</td>\n",
       "      <td>1.181818</td>\n",
       "    </tr>\n",
       "    <tr>\n",
       "      <th>40</th>\n",
       "      <td>36.958001</td>\n",
       "      <td>1.380952</td>\n",
       "    </tr>\n",
       "    <tr>\n",
       "      <th>45</th>\n",
       "      <td>36.236114</td>\n",
       "      <td>1.476190</td>\n",
       "    </tr>\n",
       "  </tbody>\n",
       "</table>\n",
       "</div>"
      ],
      "text/plain": [
       "                     Tumor Volume (mm3)  Metastatic Sites\n",
       "Drug      Timepoint                                      \n",
       "Capomulin 0                   45.000000          0.000000\n",
       "          5                   44.266086          0.160000\n",
       "          10                  43.084291          0.320000\n",
       "          15                  42.064317          0.375000\n",
       "          20                  40.716325          0.652174\n",
       "          25                  39.939528          0.818182\n",
       "          30                  38.769339          1.090909\n",
       "          35                  37.816839          1.181818\n",
       "          40                  36.958001          1.380952\n",
       "          45                  36.236114          1.476190"
      ]
     },
     "execution_count": 122,
     "metadata": {},
     "output_type": "execute_result"
    }
   ],
   "source": [
    "grouped_drug_data = combined_data.groupby([\"Drug\", \"Timepoint\"])\n",
    "\n",
    "drugAvgs = grouped_drug_data.mean()\n",
    "drugAvgs.head(10)"
   ]
  },
  {
   "cell_type": "code",
   "execution_count": 123,
   "metadata": {},
   "outputs": [
    {
     "data": {
      "image/png": "[encoded data removed]",
      "text/plain": [
       "<Figure size 432x288 with 1 Axes>"
      ]
     },
     "metadata": {
      "needs_background": "light"
     },
     "output_type": "display_data"
    }
   ],
   "source": [
    "drug_list = [\"Capomilin\", \"Infubinol\", \"Ketapril\", \"Placebo\"]\n",
    "timepoints = np.arange(0, 50, 5)\n",
    "\n",
    "tumor_volume = drugAvgs[\"Tumor Volume (mm3)\"]\n",
    "capo_tumor_volume = tumor_volume.loc[\"Capomulin\", :]\n",
    "infu_tumor_volume = tumor_volume.loc[\"Infubinol\", :]\n",
    "keta_tumor_volume = tumor_volume.loc[\"Ketapril\", :]\n",
    "plac_tumor_volume = tumor_volume.loc[\"Placebo\", :]\n",
    "\n",
    "capo_tumor_vol_plot = plt.scatter(timepoints, capo_tumor_volume, marker = \"D\", label = \"Capomulin\", alpha = .75)\n",
    "infu_tumor_vol_plot = plt.scatter(timepoints, infu_tumor_volume, marker = \"s\", label = \"Infubinol\", alpha = .75)\n",
    "keta_tumor_vol_plot = plt.scatter(timepoints, keta_tumor_volume, marker = \"o\", label = \"Ketapril\", alpha = .75)\n",
    "plac_tumor_vol_plot = plt.scatter(timepoints, plac_tumor_volume, marker = \"X\", label = \"Placebo\", alpha = .75)\n",
    "\n",
    "plt.hlines(50, 0, 50, alpha=0.45)\n",
    "plt.title(\"Tumor Volume Changes\")\n",
    "plt.xlabel(\"Days\")\n",
    "plt.ylabel(\"Tumor Volume (mm^3)\")\n",
    "plt.legend(loc=\"best\")\n",
    "plt.tight_layout()\n",
    "plt.show()\n"
   ]
  },
  {
   "cell_type": "code",
   "execution_count": 124,
   "metadata": {},
   "outputs": [
    {
     "data": {
      "image/png": "[encoded data removed]",
      "text/plain": [
       "<Figure size 432x288 with 1 Axes>"
      ]
     },
     "metadata": {
      "needs_background": "light"
     },
     "output_type": "display_data"
    }
   ],
   "source": [
    "metastatic_avg = drugAvgs[\"Metastatic Sites\"]\n",
    "\n",
    "capo_metastatic_avg = metastatic_avg.loc[\"Capomulin\", :]\n",
    "infu_metastatic_avg = metastatic_avg.loc[\"Infubinol\", :]\n",
    "keta_metastatic_avg = metastatic_avg.loc[\"Ketapril\", :]\n",
    "plac_metastatic_avg = metastatic_avg.loc[\"Placebo\", :]\n",
    "\n",
    "capo_metastatic_plot = plt.scatter(timepoints, capo_metastaticAvg, marker = \"D\", label = \"Capomulin\", alpha = .75)\n",
    "infu_metastatic_plot = plt.scatter(timepoints, infu_metastaticAvg, marker = \"s\", label = \"Infubinol\", alpha = .75)\n",
    "keta_metastatic_plot = plt.scatter(timepoints, keta_metastaticAvg, marker = \"o\", label = \"Ketapril\", alpha = .75)\n",
    "plac_metastatic_plot = plt.scatter(timepoints, plac_metastaticAvg, marker = \"X\", label = \"Placebo\", alpha = .75)\n",
    "\n",
    "plt.title(\"Average Metastic Sites\")\n",
    "plt.xlabel(\"Days\")\n",
    "plt.ylabel(\"Metastic Sites\")\n",
    "plt.legend(loc=\"best\")\n",
    "plt.grid(alpha = .5)\n",
    "plt.tight_layout()\n",
    "plt.show()"
   ]
  },
  {
   "cell_type": "code",
   "execution_count": 75,
   "metadata": {},
   "outputs": [
    {
     "data": {
      "text/html": [
       "<div>\n",
       "<style scoped>\n",
       "    .dataframe tbody tr th:only-of-type {\n",
       "        vertical-align: middle;\n",
       "    }\n",
       "\n",
       "    .dataframe tbody tr th {\n",
       "        vertical-align: top;\n",
       "    }\n",
       "\n",
       "    .dataframe thead th {\n",
       "        text-align: right;\n",
       "    }\n",
       "</style>\n",
       "<table border=\"1\" class=\"dataframe\">\n",
       "  <thead>\n",
       "    <tr style=\"text-align: right;\">\n",
       "      <th></th>\n",
       "      <th></th>\n",
       "      <th>Mouse Count</th>\n",
       "    </tr>\n",
       "    <tr>\n",
       "      <th>Drug</th>\n",
       "      <th>Timepoint</th>\n",
       "      <th></th>\n",
       "    </tr>\n",
       "  </thead>\n",
       "  <tbody>\n",
       "    <tr>\n",
       "      <th rowspan=\"10\" valign=\"top\">Capomulin</th>\n",
       "      <th>0</th>\n",
       "      <td>25</td>\n",
       "    </tr>\n",
       "    <tr>\n",
       "      <th>5</th>\n",
       "      <td>25</td>\n",
       "    </tr>\n",
       "    <tr>\n",
       "      <th>10</th>\n",
       "      <td>25</td>\n",
       "    </tr>\n",
       "    <tr>\n",
       "      <th>15</th>\n",
       "      <td>24</td>\n",
       "    </tr>\n",
       "    <tr>\n",
       "      <th>20</th>\n",
       "      <td>23</td>\n",
       "    </tr>\n",
       "    <tr>\n",
       "      <th>25</th>\n",
       "      <td>22</td>\n",
       "    </tr>\n",
       "    <tr>\n",
       "      <th>30</th>\n",
       "      <td>22</td>\n",
       "    </tr>\n",
       "    <tr>\n",
       "      <th>35</th>\n",
       "      <td>22</td>\n",
       "    </tr>\n",
       "    <tr>\n",
       "      <th>40</th>\n",
       "      <td>21</td>\n",
       "    </tr>\n",
       "    <tr>\n",
       "      <th>45</th>\n",
       "      <td>21</td>\n",
       "    </tr>\n",
       "    <tr>\n",
       "      <th rowspan=\"5\" valign=\"top\">Ceftamin</th>\n",
       "      <th>0</th>\n",
       "      <td>25</td>\n",
       "    </tr>\n",
       "    <tr>\n",
       "      <th>5</th>\n",
       "      <td>21</td>\n",
       "    </tr>\n",
       "    <tr>\n",
       "      <th>10</th>\n",
       "      <td>20</td>\n",
       "    </tr>\n",
       "    <tr>\n",
       "      <th>15</th>\n",
       "      <td>19</td>\n",
       "    </tr>\n",
       "    <tr>\n",
       "      <th>20</th>\n",
       "      <td>18</td>\n",
       "    </tr>\n",
       "  </tbody>\n",
       "</table>\n",
       "</div>"
      ],
      "text/plain": [
       "                     Mouse Count\n",
       "Drug      Timepoint             \n",
       "Capomulin 0                   25\n",
       "          5                   25\n",
       "          10                  25\n",
       "          15                  24\n",
       "          20                  23\n",
       "          25                  22\n",
       "          30                  22\n",
       "          35                  22\n",
       "          40                  21\n",
       "          45                  21\n",
       "Ceftamin  0                   25\n",
       "          5                   21\n",
       "          10                  20\n",
       "          15                  19\n",
       "          20                  18"
      ]
     },
     "execution_count": 75,
     "metadata": {},
     "output_type": "execute_result"
    }
   ],
   "source": [
    "drug_counts = grouped_drug_data.count()\n",
    "mouse_counts = drug_counts[\"Mouse ID\"]\n",
    "#list mouse count by drug and timepoint\n",
    "mouse_counts = pd.DataFrame(mouseCounts)\n",
    "mouse_counts = mouse_counts.rename(columns={\"Mouse ID\": \"Mouse Count\"})\n",
    "mouseCounts.head(15)"
   ]
  },
  {
   "cell_type": "code",
   "execution_count": 77,
   "metadata": {},
   "outputs": [
    {
     "data": {
      "image/png": "[encoded data removed]",
      "text/plain": [
       "<Figure size 432x288 with 1 Axes>"
      ]
     },
     "metadata": {
      "needs_background": "light"
     },
     "output_type": "display_data"
    }
   ],
   "source": [
    "capo_mouse_counts = mouse_counts.loc[\"Capomulin\", :]\n",
    "infu_mouse_counts = mouse_counts.loc[\"Infubinol\", :]\n",
    "keta_mouse_counts = mouse_counts.loc[\"Ketapril\", :]\n",
    "plac_mouse_counts = mouse_counts.loc[\"Placebo\", :]\n",
    "\n",
    "capo_survival_perc = capo_mouse_counts / capo_mouse_counts.iloc[0, 0] * 100\n",
    "infu_survival_perc = infu_mouse_counts / infu_mouse_counts.iloc[0, 0] * 100\n",
    "keta_survival_perc = keta_mouse_counts / keta_mouse_counts.iloc[0, 0] * 100\n",
    "plac_survival_perc = plac_mouse_counts / plac_mouse_counts.iloc[0, 0] * 100\n",
    "\n",
    "#plot each drug's mouse count over time\n",
    "capo_tumor_vol_plot = plt.scatter(timepoints, capo_survival_perc, marker = \"D\", label = \"Capomulin\", alpha = .75)\n",
    "infu_tumor_vol_plot = plt.scatter(timepoints, infu_survival_perc, marker = \"s\", label = \"Infubinol\", alpha = .75)\n",
    "keta_tumor_vol_plot = plt.scatter(timepoints, keta_survival_perc, marker = \"o\", label = \"Ketapril\", alpha = .75)\n",
    "plac_tumor_vol_plot = plt.scatter(timepoints, plac_survival_perc, marker = \"X\", label = \"Placebo\", alpha = .75)\n",
    "\n",
    "#formatting and titles\n",
    "plt.title(\"Survival Rate Over Treatment\")\n",
    "plt.xlabel(\"Days\")\n",
    "plt.ylabel(\"Survival Rate (%)\")\n",
    "plt.legend(loc=\"best\")\n",
    "plt.grid(alpha = .4)\n",
    "plt.tight_layout()\n",
    "plt.show()"
   ]
  },
  {
   "cell_type": "code",
   "execution_count": 80,
   "metadata": {},
   "outputs": [
    {
     "data": {
      "text/html": [
       "<div>\n",
       "<style scoped>\n",
       "    .dataframe tbody tr th:only-of-type {\n",
       "        vertical-align: middle;\n",
       "    }\n",
       "\n",
       "    .dataframe tbody tr th {\n",
       "        vertical-align: top;\n",
       "    }\n",
       "\n",
       "    .dataframe thead th {\n",
       "        text-align: right;\n",
       "    }\n",
       "</style>\n",
       "<table border=\"1\" class=\"dataframe\">\n",
       "  <thead>\n",
       "    <tr style=\"text-align: right;\">\n",
       "      <th></th>\n",
       "      <th>Drug</th>\n",
       "      <th>Tumor Percent Change</th>\n",
       "    </tr>\n",
       "  </thead>\n",
       "  <tbody>\n",
       "    <tr>\n",
       "      <th>0</th>\n",
       "      <td>Capomilin</td>\n",
       "      <td>-19.475303</td>\n",
       "    </tr>\n",
       "    <tr>\n",
       "      <th>1</th>\n",
       "      <td>Infubinol</td>\n",
       "      <td>46.123472</td>\n",
       "    </tr>\n",
       "    <tr>\n",
       "      <th>2</th>\n",
       "      <td>Ketapril</td>\n",
       "      <td>57.028795</td>\n",
       "    </tr>\n",
       "    <tr>\n",
       "      <th>3</th>\n",
       "      <td>Placebo</td>\n",
       "      <td>51.297960</td>\n",
       "    </tr>\n",
       "  </tbody>\n",
       "</table>\n",
       "</div>"
      ],
      "text/plain": [
       "        Drug  Tumor Percent Change\n",
       "0  Capomilin            -19.475303\n",
       "1  Infubinol             46.123472\n",
       "2   Ketapril             57.028795\n",
       "3    Placebo             51.297960"
      ]
     },
     "execution_count": 80,
     "metadata": {},
     "output_type": "execute_result"
    }
   ],
   "source": [
    "capo_tumor_perc_change = (capo_tumor_volume[9] / capo_tumor_volume[0] * 100) - 100\n",
    "infu_tumor_perc_change = (infu_tumor_volume[9] / infu_tumor_volume[0] * 100) - 100\n",
    "keta_tumor_perc_change = (keta_tumor_volume[9] / keta_tumor_volume[0] * 100) - 100\n",
    "plac_tumor_perc_change = (plac_tumor_volume[9] / plac_tumor_volume[0] * 100) - 100\n",
    "\n",
    "#list tumor % changes\n",
    "tumor_perc_list = [capo_tumor_perc_change, infu_tumor_perc_change, keta_tumor_perc_change, plac_tumor_perc_change]\n",
    "\n",
    "#create table with drug and tumor % change\n",
    "tumor_perc_table = pd.DataFrame({\"Drug\": drug_list, \"Tumor Percent Change\": tumor_perc_list})\n",
    "tumor_perc_table"
   ]
  },
  {
   "cell_type": "code",
   "execution_count": 95,
   "metadata": {},
   "outputs": [
    {
     "data": {
      "image/png": "[encoded data removed]",
      "text/plain": [
       "<Figure size 432x288 with 1 Axes>"
      ]
     },
     "metadata": {
      "needs_background": "light"
     },
     "output_type": "display_data"
    }
   ],
   "source": [
    "tumor_chart = plt.bar(tumor_perc_table[\"Drug\"],tumor_perc_table[\"Tumor Percent Change\"])\n",
    "\n",
    "for i in range(len(drug_list)):\n",
    "    if tumor_perc_list[i] < 0:\n",
    "        tumor_chart[i].set_color(\"green\")\n",
    "        perc_text = format(tumor_perc_list[i] / 100, \".2%\")\n",
    "        plt.text(-.2 + i, -5, perc_text)\n",
    "    else:\n",
    "        tumor_chart[i].set_color(\"red\")\n",
    "        perc_text = format(tumor_perc_list[i] / 100, \".2%\")\n",
    "        plt.text(-.2 + i, 2, perc_text, color = \"w\")\n",
    "        \n",
    "plt.title(\"Tumor % total change by drug\")\n",
    "plt.xlabel(\"Drug\")\n",
    "plt.ylabel(\"Tumor % Change (%)\")\n",
    "plt.hlines(0, -.5, 3.5, alpha=0.3)\n",
    "plt.xlim(-.5, 3.5)\n",
    "plt.tight_layout()\n",
    "plt.show()\n",
    "\n",
    "        \n",
    "        "
   ]
  },
  {
   "cell_type": "code",
   "execution_count": null,
   "metadata": {},
   "outputs": [],
   "source": [
    "#Observations\n",
    "# 1 All the drugs have changing tendence on tumor volume, the drug \n",
    " # Capomilin was the most positive change in the 45 days tests.\n",
    "# 2 As well in the survive plot we can see that Capomilin had the \n",
    " # highest survival rate with almost twice as much pased the 45 days.\n",
    "# 3 Capomilin was the only drug with positve changes in all tests."
   ]
  }
 ],
 "metadata": {
  "kernelspec": {
   "display_name": "Python 3",
   "language": "python",
   "name": "python3"
  },
  "language_info": {
   "codemirror_mode": {
    "name": "ipython",
    "version": 3
   },
   "file_extension": ".py",
   "mimetype": "text/x-python",
   "name": "python",
   "nbconvert_exporter": "python",
   "pygments_lexer": "ipython3",
   "version": "3.7.3"
  }
 },
 "nbformat": 4,
 "nbformat_minor": 2
}
